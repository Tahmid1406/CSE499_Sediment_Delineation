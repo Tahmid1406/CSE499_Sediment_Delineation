{
 "cells": [
  {
   "cell_type": "markdown",
   "metadata": {},
   "source": [
    "# Imports"
   ]
  },
  {
   "cell_type": "code",
   "execution_count": 1,
   "metadata": {},
   "outputs": [],
   "source": [
    "import warnings\n",
    "from osgeo import gdal\n",
    "from ipywidgets import IntProgress\n",
    "import glob\n",
    "import random\n",
    "import cv2\n",
    "import numpy as np\n",
    "import tensorflow as tf\n",
    "import rasterio\n",
    "from rasterio.plot import show\n",
    "import matplotlib.pyplot as plt\n",
    "%matplotlib inline"
   ]
  },
  {
   "cell_type": "code",
   "execution_count": null,
   "metadata": {},
   "outputs": [],
   "source": []
  },
  {
   "cell_type": "markdown",
   "metadata": {},
   "source": [
    "# Reading data"
   ]
  },
  {
   "cell_type": "code",
   "execution_count": 2,
   "metadata": {},
   "outputs": [
    {
     "name": "stdout",
     "output_type": "stream",
     "text": [
      "1000\n",
      "1000\n"
     ]
    }
   ],
   "source": [
    "# Get list of paths of images\n",
    "orgs = sorted(glob.glob(\"./data/Dataset/image/*.tif\")) # Images\n",
    "\n",
    "# Get list of paths of labels\n",
    "masks = sorted(glob.glob(\"./data/Dataset/labels/*.tif\")) # Noise free labels\n",
    "\n",
    "print(len(orgs))\n",
    "\n",
    "print(len(masks))"
   ]
  },
  {
   "cell_type": "code",
   "execution_count": 3,
   "metadata": {},
   "outputs": [
    {
     "name": "stdout",
     "output_type": "stream",
     "text": [
      "./data/Dataset/image\\utm_6292_2860.tif\n",
      "./data/Dataset/labels\\utm_6292_2860.tif\n"
     ]
    }
   ],
   "source": [
    "# create list of indices\n",
    "idx = list(range(len(orgs)))\n",
    "\n",
    "# shuffle indices to randomize order\n",
    "random.seed(12345)\n",
    "random.shuffle(idx)\n",
    "\n",
    "# shuffle lists of paths\n",
    "orgs = [orgs[i] for i in idx]\n",
    "masks = [masks[i] for i in idx]\n",
    "\n",
    "print(orgs[100])\n",
    "print(masks[100])"
   ]
  },
  {
   "cell_type": "code",
   "execution_count": null,
   "metadata": {},
   "outputs": [],
   "source": []
  },
  {
   "cell_type": "code",
   "execution_count": 4,
   "metadata": {},
   "outputs": [],
   "source": [
    "# Normalize bands into 0.0 - 1.0 scale\n",
    "def normalize(array):\n",
    "    diff = array.max() - array.min()\n",
    "    return (array - array.min()) / diff\n",
    "\n",
    "def read_image(path):\n",
    "    raster = rasterio.open(path)\n",
    "    band_2 = raster.read(2)\n",
    "    band_3 = raster.read(3)\n",
    "    band_4 = raster.read(4)\n",
    "    \n",
    "    norm_2 = normalize(band_2)\n",
    "    norm_3 = normalize(band_3)\n",
    "    norm_4 = normalize(band_4)\n",
    "    \n",
    "    x = np.dstack((norm_4, norm_3, norm_2))\n",
    "    \n",
    "    image = np.array(Image.fromarray((x * 255).astype(np.uint8)).resize((512, 512)).convert('RGB'))\n",
    "    y = np.mean(image)\n",
    "    image[np.isnan(image)] = y\n",
    "    return image\n",
    "\n",
    "\n",
    "def read_mask(path):\n",
    "    img = gdal.Open(path)\n",
    "    x = img.ReadAsArray()\n",
    "    x = np.array(Image.fromarray(x.astype(np.uint8)).resize((512, 512)))\n",
    "    # raster = rasterio.open(path)\n",
    "    # x = raster.read(1)\n",
    "    x[np.isnan(x)] = 0\n",
    "    return x\n",
    "\n"
   ]
  },
  {
   "cell_type": "code",
   "execution_count": 5,
   "metadata": {},
   "outputs": [
    {
     "name": "stderr",
     "output_type": "stream",
     "text": [
      "C:\\Users\\ASUS\\anaconda3\\envs\\ten\\lib\\site-packages\\ipykernel_launcher.py:4: RuntimeWarning: invalid value encountered in true_divide\n",
      "  after removing the cwd from sys.path.\n"
     ]
    }
   ],
   "source": [
    "from PIL import Image\n",
    "\n",
    "imgs_list = []\n",
    "masks_list = []\n",
    "for image, mask in zip(orgs, masks):\n",
    "    imgs_list.append(np.array(read_image(image)))\n",
    "    \n",
    "    im = read_mask(mask)\n",
    "    masks_list.append(np.array(im))\n",
    "\n",
    "imgs_np = np.asarray(imgs_list)\n",
    "masks_np = np.asarray(masks_list)"
   ]
  },
  {
   "cell_type": "code",
   "execution_count": 6,
   "metadata": {},
   "outputs": [
    {
     "name": "stdout",
     "output_type": "stream",
     "text": [
      "1000\n",
      "[[0 0 0 ... 0 0 0]\n",
      " [0 0 0 ... 0 0 0]\n",
      " [0 0 0 ... 0 0 0]\n",
      " ...\n",
      " [0 0 0 ... 0 0 0]\n",
      " [0 0 0 ... 0 0 0]\n",
      " [0 0 0 ... 0 0 0]]\n"
     ]
    }
   ],
   "source": [
    "print(len(imgs_np))\n",
    "print(masks_np[70])"
   ]
  },
  {
   "cell_type": "code",
   "execution_count": 7,
   "metadata": {},
   "outputs": [],
   "source": [
    "# imgs_np[80]\n",
    "#np.unique(masks_np)"
   ]
  },
  {
   "cell_type": "code",
   "execution_count": 8,
   "metadata": {},
   "outputs": [],
   "source": [
    "#imgs_np.shape\n",
    "#masks_np[1]"
   ]
  },
  {
   "cell_type": "code",
   "execution_count": 9,
   "metadata": {},
   "outputs": [
    {
     "name": "stdout",
     "output_type": "stream",
     "text": [
      "-----------------------------------------\n",
      "keras-unet init: TF version is >= 2.0.0 - using `tf.keras` instead of `Keras`\n",
      "-----------------------------------------\n"
     ]
    }
   ],
   "source": [
    "from keras_unet.utils import plot_imgs\n",
    "\n",
    "#plot_imgs(org_imgs=imgs_np, mask_imgs=masks_np, nm_img_to_plot=10, figsize=6)"
   ]
  },
  {
   "cell_type": "code",
   "execution_count": 10,
   "metadata": {},
   "outputs": [],
   "source": [
    "#print(imgs_np.max(), masks_np.max())"
   ]
  },
  {
   "cell_type": "code",
   "execution_count": 11,
   "metadata": {},
   "outputs": [],
   "source": [
    "from sklearn.preprocessing import LabelEncoder\n",
    "from keras.utils import to_categorical\n",
    "\n",
    "\n",
    "x = np.asarray(imgs_np, dtype=np.float32)/255\n",
    "\n",
    "y = np.asarray(masks_np, dtype=np.float32)\n"
   ]
  },
  {
   "cell_type": "code",
   "execution_count": 12,
   "metadata": {},
   "outputs": [],
   "source": [
    "# print(x.max(), y.max())\n",
    "# print(y.value_count)\n"
   ]
  },
  {
   "cell_type": "code",
   "execution_count": 13,
   "metadata": {},
   "outputs": [
    {
     "name": "stdout",
     "output_type": "stream",
     "text": [
      "(1000, 512, 512, 3) (1000, 512, 512, 1)\n"
     ]
    }
   ],
   "source": [
    "y = y.reshape(y.shape[0], y.shape[1], y.shape[2], 1)\n",
    "print(x.shape, y.shape)"
   ]
  },
  {
   "cell_type": "code",
   "execution_count": 14,
   "metadata": {},
   "outputs": [],
   "source": [
    "y = to_categorical(y)"
   ]
  },
  {
   "cell_type": "code",
   "execution_count": 15,
   "metadata": {},
   "outputs": [
    {
     "data": {
      "text/plain": [
       "(512, 512, 5)"
      ]
     },
     "execution_count": 15,
     "metadata": {},
     "output_type": "execute_result"
    }
   ],
   "source": [
    "y[1].shape"
   ]
  },
  {
   "cell_type": "code",
   "execution_count": null,
   "metadata": {},
   "outputs": [],
   "source": []
  },
  {
   "cell_type": "code",
   "execution_count": 16,
   "metadata": {},
   "outputs": [
    {
     "name": "stdout",
     "output_type": "stream",
     "text": [
      "(1000, 512, 512, 3) (1000, 512, 512, 5)\n"
     ]
    },
    {
     "data": {
      "text/plain": [
       "array([[[0.2901961 , 0.27450982, 0.22745098],\n",
       "        [0.30980393, 0.28627452, 0.22745098],\n",
       "        [0.24705882, 0.23529412, 0.18431373],\n",
       "        ...,\n",
       "        [0.28235295, 0.22745098, 0.1882353 ],\n",
       "        [0.30980393, 0.24313726, 0.2       ],\n",
       "        [0.34901962, 0.26666668, 0.22352941]],\n",
       "\n",
       "       [[0.36078432, 0.30588236, 0.24705882],\n",
       "        [0.4117647 , 0.34509805, 0.28235295],\n",
       "        [0.35686275, 0.3019608 , 0.24313726],\n",
       "        ...,\n",
       "        [0.27450982, 0.22352941, 0.1882353 ],\n",
       "        [0.3019608 , 0.23921569, 0.2       ],\n",
       "        [0.34509805, 0.26666668, 0.22352941]],\n",
       "\n",
       "       [[0.3764706 , 0.3019608 , 0.25490198],\n",
       "        [0.4       , 0.32156864, 0.27058825],\n",
       "        [0.37254903, 0.3019608 , 0.24705882],\n",
       "        ...,\n",
       "        [0.2784314 , 0.22745098, 0.1882353 ],\n",
       "        [0.3137255 , 0.2509804 , 0.21176471],\n",
       "        [0.34509805, 0.27450982, 0.23137255]],\n",
       "\n",
       "       ...,\n",
       "\n",
       "       [[0.2627451 , 0.21568628, 0.1764706 ],\n",
       "        [0.2901961 , 0.23921569, 0.19607843],\n",
       "        [0.30980393, 0.24705882, 0.20784314],\n",
       "        ...,\n",
       "        [0.05098039, 0.05882353, 0.03529412],\n",
       "        [0.04705882, 0.0627451 , 0.03921569],\n",
       "        [0.04313726, 0.05490196, 0.03137255]],\n",
       "\n",
       "       [[0.29411766, 0.23529412, 0.1764706 ],\n",
       "        [0.3019608 , 0.23529412, 0.18039216],\n",
       "        [0.30980393, 0.23529412, 0.1882353 ],\n",
       "        ...,\n",
       "        [0.04313726, 0.05882353, 0.03921569],\n",
       "        [0.05098039, 0.07450981, 0.03921569],\n",
       "        [0.08627451, 0.08235294, 0.05882353]],\n",
       "\n",
       "       [[0.29411766, 0.23137255, 0.1764706 ],\n",
       "        [0.30588236, 0.23137255, 0.18431373],\n",
       "        [0.30588236, 0.23137255, 0.18039216],\n",
       "        ...,\n",
       "        [0.04705882, 0.05490196, 0.03529412],\n",
       "        [0.05098039, 0.05882353, 0.03137255],\n",
       "        [0.09411765, 0.07843138, 0.05882353]]], dtype=float32)"
      ]
     },
     "execution_count": 16,
     "metadata": {},
     "output_type": "execute_result"
    }
   ],
   "source": [
    "x = np.stack(x)\n",
    "print(x.shape, y.shape)\n",
    "x[1]"
   ]
  },
  {
   "cell_type": "code",
   "execution_count": 17,
   "metadata": {},
   "outputs": [
    {
     "data": {
      "text/plain": [
       "(512, 512, 3)"
      ]
     },
     "execution_count": 17,
     "metadata": {},
     "output_type": "execute_result"
    }
   ],
   "source": [
    "x[1].shape"
   ]
  },
  {
   "cell_type": "code",
   "execution_count": 18,
   "metadata": {},
   "outputs": [
    {
     "name": "stdout",
     "output_type": "stream",
     "text": [
      "x_train:  (800, 512, 512, 3)\n",
      "y_train:  (800, 512, 512, 5)\n",
      "x_val:  (200, 512, 512, 3)\n",
      "y_val:  (200, 512, 512, 5)\n"
     ]
    }
   ],
   "source": [
    "from sklearn.model_selection import train_test_split\n",
    "\n",
    "x_train, x_val, y_train, y_val = train_test_split(x, y, test_size=0.2, random_state=0)\n",
    "\n",
    "print(\"x_train: \", x_train.shape)\n",
    "print(\"y_train: \", y_train.shape)\n",
    "print(\"x_val: \", x_val.shape)\n",
    "print(\"y_val: \", y_val.shape)"
   ]
  },
  {
   "cell_type": "code",
   "execution_count": null,
   "metadata": {},
   "outputs": [],
   "source": []
  },
  {
   "cell_type": "code",
   "execution_count": 19,
   "metadata": {},
   "outputs": [
    {
     "name": "stderr",
     "output_type": "stream",
     "text": [
      "C:\\Users\\ASUS\\AppData\\Roaming\\Python\\Python37\\site-packages\\keras_preprocessing\\image\\image_data_generator.py:947: UserWarning: Expected input to be images (as Numpy array) following the data format convention \"channels_last\" (channels on axis 3), i.e. expected either 1, 3 or 4 channels on axis 3. However, it was passed an array with shape (800, 512, 512, 5) (5 channels).\n",
      "  ' channels).')\n",
      "C:\\Users\\ASUS\\AppData\\Roaming\\Python\\Python37\\site-packages\\keras_preprocessing\\image\\numpy_array_iterator.py:136: UserWarning: NumpyArrayIterator is set to use the data format convention \"channels_last\" (channels on axis 3), i.e. expected either 1, 3, or 4 channels on axis 3. However, it was passed an array with shape (800, 512, 512, 5) (5 channels).\n",
      "  str(self.x.shape[channels_axis]) + ' channels).')\n"
     ]
    }
   ],
   "source": [
    "from keras_unet.utils import get_augmented\n",
    "\n",
    "train_gen = get_augmented(\n",
    "    x_train, y_train, batch_size=2,\n",
    "    data_gen_args = dict(\n",
    "        rotation_range=15.,\n",
    "        width_shift_range=0.05,\n",
    "        height_shift_range=0.05,\n",
    "        shear_range=50,\n",
    "        zoom_range=0.2,\n",
    "        horizontal_flip=True,\n",
    "        vertical_flip=True,\n",
    "        fill_mode='constant'\n",
    "    ))"
   ]
  },
  {
   "cell_type": "code",
   "execution_count": 20,
   "metadata": {},
   "outputs": [
    {
     "name": "stdout",
     "output_type": "stream",
     "text": [
      "(2, 512, 512, 3) (2, 512, 512, 5)\n"
     ]
    }
   ],
   "source": [
    "sample_batch = next(train_gen)\n",
    "xx, yy = sample_batch\n",
    "print(xx.shape, yy.shape)\n",
    "\n",
    "#from keras_unet.utils import plot_imgs\n",
    "\n",
    "#plot_imgs(org_imgs=xx, mask_imgs=yy, nm_img_to_plot=4, figsize=6)"
   ]
  },
  {
   "cell_type": "code",
   "execution_count": 21,
   "metadata": {},
   "outputs": [],
   "source": [
    "# https://cdn-sv1.deepsense.ai/wp-content/uploads/2017/04/architecture_details.png\n",
    "# https://deepsense.ai/deep-learning-for-satellite-imagery-via-image-segmentation/\n",
    "\n",
    "from keras_unet import TF\n",
    "if TF:\n",
    "    from tensorflow.keras.models import Model\n",
    "    from tensorflow.keras.layers import ( \n",
    "        BatchNormalization, Conv2D, Conv2DTranspose,\n",
    "        MaxPooling2D, UpSampling2D, Input,\n",
    "        concatenate\n",
    "    )\n",
    "else:    \n",
    "    from keras.models import Model\n",
    "    from keras.layers import ( \n",
    "        BatchNormalization, Conv2D, Conv2DTranspose,\n",
    "        MaxPooling2D, UpSampling2D, Input,\n",
    "        concatenate\n",
    "    )\n",
    "\n",
    "\n",
    "def bn_conv_relu(input, filters, bachnorm_momentum, **conv2d_args):\n",
    "    x = BatchNormalization(momentum=bachnorm_momentum)(input)\n",
    "    x = Conv2D(filters, **conv2d_args)(x)\n",
    "    return x\n",
    "\n",
    "def bn_upconv_relu(input, filters, bachnorm_momentum, **conv2d_trans_args):\n",
    "    x = BatchNormalization(momentum=bachnorm_momentum)(input)\n",
    "    x = Conv2DTranspose(filters, **conv2d_trans_args)(x)\n",
    "    return x\n",
    "\n",
    "def satellite_unet(\n",
    "    input_shape,\n",
    "    num_classes=5,\n",
    "    output_activation='softmax',\n",
    "    num_layers=4):\n",
    "\n",
    "    inputs = Input(input_shape)   \n",
    "    \n",
    "    filters = 64\n",
    "    upconv_filters = 96\n",
    "\n",
    "    kernel_size = (3,3)\n",
    "    activation = 'relu'\n",
    "    strides = (1,1)\n",
    "    padding = 'same'\n",
    "    kernel_initializer = 'he_normal'\n",
    "\n",
    "    conv2d_args = {\n",
    "        'kernel_size':kernel_size,\n",
    "        'activation':activation, \n",
    "        'strides':strides,\n",
    "        'padding':padding,\n",
    "        'kernel_initializer':kernel_initializer\n",
    "        }\n",
    "\n",
    "    conv2d_trans_args = {\n",
    "        'kernel_size':kernel_size,\n",
    "        'activation':activation, \n",
    "        'strides':(2,2),\n",
    "        'padding':padding,\n",
    "        'output_padding':(1,1)\n",
    "        }\n",
    "\n",
    "    bachnorm_momentum = 0.01\n",
    "\n",
    "    pool_size = (2,2)\n",
    "    pool_strides = (2,2)\n",
    "    pool_padding = 'valid'\n",
    "\n",
    "    maxpool2d_args = {\n",
    "        'pool_size':pool_size,\n",
    "        'strides':pool_strides,\n",
    "        'padding':pool_padding,\n",
    "        }\n",
    "    \n",
    "    x = Conv2D(filters, **conv2d_args)(inputs)\n",
    "    c1 = bn_conv_relu(x, filters, bachnorm_momentum, **conv2d_args)    \n",
    "    x = bn_conv_relu(c1, filters, bachnorm_momentum, **conv2d_args)\n",
    "    x = MaxPooling2D(**maxpool2d_args)(x)\n",
    "\n",
    "    down_layers = []\n",
    "\n",
    "    for l in range(num_layers):\n",
    "        x = bn_conv_relu(x, filters, bachnorm_momentum, **conv2d_args)\n",
    "        x = bn_conv_relu(x, filters, bachnorm_momentum, **conv2d_args)\n",
    "        down_layers.append(x)\n",
    "        x = bn_conv_relu(x, filters, bachnorm_momentum, **conv2d_args)\n",
    "        x = MaxPooling2D(**maxpool2d_args)(x)\n",
    "\n",
    "    x = bn_conv_relu(x, filters, bachnorm_momentum, **conv2d_args)\n",
    "    x = bn_conv_relu(x, filters, bachnorm_momentum, **conv2d_args)\n",
    "    x = bn_upconv_relu(x, filters, bachnorm_momentum, **conv2d_trans_args)\n",
    "\n",
    "    for conv in reversed(down_layers):        \n",
    "        x = concatenate([x, conv])  \n",
    "        x = bn_conv_relu(x, upconv_filters, bachnorm_momentum, **conv2d_args)\n",
    "        x = bn_conv_relu(x, filters, bachnorm_momentum, **conv2d_args)\n",
    "        x = bn_upconv_relu(x, filters, bachnorm_momentum, **conv2d_trans_args)\n",
    "\n",
    "    x = concatenate([x, c1])\n",
    "    x = bn_conv_relu(x, upconv_filters, bachnorm_momentum, **conv2d_args)\n",
    "    x = bn_conv_relu(x, filters, bachnorm_momentum, **conv2d_args)\n",
    "           \n",
    "    outputs = Conv2D(5, kernel_size=(1,1), strides=(1,1), activation=output_activation, padding='valid') (x)       \n",
    "    \n",
    "    model = Model(inputs=[inputs], outputs=[outputs])\n",
    "    return model"
   ]
  },
  {
   "cell_type": "code",
   "execution_count": 22,
   "metadata": {},
   "outputs": [],
   "source": [
    "from keras_unet.models import custom_unet\n",
    "\n",
    "input_shape = x_train[0].shape\n",
    "\n",
    "# model = custom_unet(\n",
    "#     input_shape,\n",
    "#     use_batch_norm=False,\n",
    "#     num_classes=1,\n",
    "#     filters=64,\n",
    "#     dropout=0.2,\n",
    "#     output_activation='softmax'\n",
    "# )\n",
    "\n",
    "model = satellite_unet(input_shape=(512, 512, 3))"
   ]
  },
  {
   "cell_type": "code",
   "execution_count": 23,
   "metadata": {},
   "outputs": [
    {
     "name": "stdout",
     "output_type": "stream",
     "text": [
      "Model: \"model\"\n",
      "__________________________________________________________________________________________________\n",
      "Layer (type)                    Output Shape         Param #     Connected to                     \n",
      "==================================================================================================\n",
      "input_1 (InputLayer)            [(None, 512, 512, 3) 0                                            \n",
      "__________________________________________________________________________________________________\n",
      "conv2d (Conv2D)                 (None, 512, 512, 64) 1792        input_1[0][0]                    \n",
      "__________________________________________________________________________________________________\n",
      "batch_normalization (BatchNorma (None, 512, 512, 64) 256         conv2d[0][0]                     \n",
      "__________________________________________________________________________________________________\n",
      "conv2d_1 (Conv2D)               (None, 512, 512, 64) 36928       batch_normalization[0][0]        \n",
      "__________________________________________________________________________________________________\n",
      "batch_normalization_1 (BatchNor (None, 512, 512, 64) 256         conv2d_1[0][0]                   \n",
      "__________________________________________________________________________________________________\n",
      "conv2d_2 (Conv2D)               (None, 512, 512, 64) 36928       batch_normalization_1[0][0]      \n",
      "__________________________________________________________________________________________________\n",
      "max_pooling2d (MaxPooling2D)    (None, 256, 256, 64) 0           conv2d_2[0][0]                   \n",
      "__________________________________________________________________________________________________\n",
      "batch_normalization_2 (BatchNor (None, 256, 256, 64) 256         max_pooling2d[0][0]              \n",
      "__________________________________________________________________________________________________\n",
      "conv2d_3 (Conv2D)               (None, 256, 256, 64) 36928       batch_normalization_2[0][0]      \n",
      "__________________________________________________________________________________________________\n",
      "batch_normalization_3 (BatchNor (None, 256, 256, 64) 256         conv2d_3[0][0]                   \n",
      "__________________________________________________________________________________________________\n",
      "conv2d_4 (Conv2D)               (None, 256, 256, 64) 36928       batch_normalization_3[0][0]      \n",
      "__________________________________________________________________________________________________\n",
      "batch_normalization_4 (BatchNor (None, 256, 256, 64) 256         conv2d_4[0][0]                   \n",
      "__________________________________________________________________________________________________\n",
      "conv2d_5 (Conv2D)               (None, 256, 256, 64) 36928       batch_normalization_4[0][0]      \n",
      "__________________________________________________________________________________________________\n",
      "max_pooling2d_1 (MaxPooling2D)  (None, 128, 128, 64) 0           conv2d_5[0][0]                   \n",
      "__________________________________________________________________________________________________\n",
      "batch_normalization_5 (BatchNor (None, 128, 128, 64) 256         max_pooling2d_1[0][0]            \n",
      "__________________________________________________________________________________________________\n",
      "conv2d_6 (Conv2D)               (None, 128, 128, 64) 36928       batch_normalization_5[0][0]      \n",
      "__________________________________________________________________________________________________\n",
      "batch_normalization_6 (BatchNor (None, 128, 128, 64) 256         conv2d_6[0][0]                   \n",
      "__________________________________________________________________________________________________\n",
      "conv2d_7 (Conv2D)               (None, 128, 128, 64) 36928       batch_normalization_6[0][0]      \n",
      "__________________________________________________________________________________________________\n",
      "batch_normalization_7 (BatchNor (None, 128, 128, 64) 256         conv2d_7[0][0]                   \n",
      "__________________________________________________________________________________________________\n",
      "conv2d_8 (Conv2D)               (None, 128, 128, 64) 36928       batch_normalization_7[0][0]      \n",
      "__________________________________________________________________________________________________\n",
      "max_pooling2d_2 (MaxPooling2D)  (None, 64, 64, 64)   0           conv2d_8[0][0]                   \n",
      "__________________________________________________________________________________________________\n",
      "batch_normalization_8 (BatchNor (None, 64, 64, 64)   256         max_pooling2d_2[0][0]            \n",
      "__________________________________________________________________________________________________\n",
      "conv2d_9 (Conv2D)               (None, 64, 64, 64)   36928       batch_normalization_8[0][0]      \n",
      "__________________________________________________________________________________________________\n",
      "batch_normalization_9 (BatchNor (None, 64, 64, 64)   256         conv2d_9[0][0]                   \n",
      "__________________________________________________________________________________________________\n",
      "conv2d_10 (Conv2D)              (None, 64, 64, 64)   36928       batch_normalization_9[0][0]      \n",
      "__________________________________________________________________________________________________\n",
      "batch_normalization_10 (BatchNo (None, 64, 64, 64)   256         conv2d_10[0][0]                  \n",
      "__________________________________________________________________________________________________\n",
      "conv2d_11 (Conv2D)              (None, 64, 64, 64)   36928       batch_normalization_10[0][0]     \n",
      "__________________________________________________________________________________________________\n",
      "max_pooling2d_3 (MaxPooling2D)  (None, 32, 32, 64)   0           conv2d_11[0][0]                  \n",
      "__________________________________________________________________________________________________\n",
      "batch_normalization_11 (BatchNo (None, 32, 32, 64)   256         max_pooling2d_3[0][0]            \n",
      "__________________________________________________________________________________________________\n",
      "conv2d_12 (Conv2D)              (None, 32, 32, 64)   36928       batch_normalization_11[0][0]     \n",
      "__________________________________________________________________________________________________\n",
      "batch_normalization_12 (BatchNo (None, 32, 32, 64)   256         conv2d_12[0][0]                  \n",
      "__________________________________________________________________________________________________\n",
      "conv2d_13 (Conv2D)              (None, 32, 32, 64)   36928       batch_normalization_12[0][0]     \n",
      "__________________________________________________________________________________________________\n",
      "batch_normalization_13 (BatchNo (None, 32, 32, 64)   256         conv2d_13[0][0]                  \n",
      "__________________________________________________________________________________________________\n",
      "conv2d_14 (Conv2D)              (None, 32, 32, 64)   36928       batch_normalization_13[0][0]     \n",
      "__________________________________________________________________________________________________\n",
      "max_pooling2d_4 (MaxPooling2D)  (None, 16, 16, 64)   0           conv2d_14[0][0]                  \n",
      "__________________________________________________________________________________________________\n",
      "batch_normalization_14 (BatchNo (None, 16, 16, 64)   256         max_pooling2d_4[0][0]            \n",
      "__________________________________________________________________________________________________\n",
      "conv2d_15 (Conv2D)              (None, 16, 16, 64)   36928       batch_normalization_14[0][0]     \n",
      "__________________________________________________________________________________________________\n",
      "batch_normalization_15 (BatchNo (None, 16, 16, 64)   256         conv2d_15[0][0]                  \n",
      "__________________________________________________________________________________________________\n",
      "conv2d_16 (Conv2D)              (None, 16, 16, 64)   36928       batch_normalization_15[0][0]     \n",
      "__________________________________________________________________________________________________\n",
      "batch_normalization_16 (BatchNo (None, 16, 16, 64)   256         conv2d_16[0][0]                  \n",
      "__________________________________________________________________________________________________\n",
      "conv2d_transpose (Conv2DTranspo (None, 32, 32, 64)   36928       batch_normalization_16[0][0]     \n",
      "__________________________________________________________________________________________________\n",
      "concatenate (Concatenate)       (None, 32, 32, 128)  0           conv2d_transpose[0][0]           \n",
      "                                                                 conv2d_13[0][0]                  \n",
      "__________________________________________________________________________________________________\n",
      "batch_normalization_17 (BatchNo (None, 32, 32, 128)  512         concatenate[0][0]                \n",
      "__________________________________________________________________________________________________\n",
      "conv2d_17 (Conv2D)              (None, 32, 32, 96)   110688      batch_normalization_17[0][0]     \n",
      "__________________________________________________________________________________________________\n",
      "batch_normalization_18 (BatchNo (None, 32, 32, 96)   384         conv2d_17[0][0]                  \n",
      "__________________________________________________________________________________________________\n",
      "conv2d_18 (Conv2D)              (None, 32, 32, 64)   55360       batch_normalization_18[0][0]     \n",
      "__________________________________________________________________________________________________\n",
      "batch_normalization_19 (BatchNo (None, 32, 32, 64)   256         conv2d_18[0][0]                  \n",
      "__________________________________________________________________________________________________\n",
      "conv2d_transpose_1 (Conv2DTrans (None, 64, 64, 64)   36928       batch_normalization_19[0][0]     \n",
      "__________________________________________________________________________________________________\n",
      "concatenate_1 (Concatenate)     (None, 64, 64, 128)  0           conv2d_transpose_1[0][0]         \n",
      "                                                                 conv2d_10[0][0]                  \n",
      "__________________________________________________________________________________________________\n",
      "batch_normalization_20 (BatchNo (None, 64, 64, 128)  512         concatenate_1[0][0]              \n",
      "__________________________________________________________________________________________________\n",
      "conv2d_19 (Conv2D)              (None, 64, 64, 96)   110688      batch_normalization_20[0][0]     \n",
      "__________________________________________________________________________________________________\n",
      "batch_normalization_21 (BatchNo (None, 64, 64, 96)   384         conv2d_19[0][0]                  \n",
      "__________________________________________________________________________________________________\n",
      "conv2d_20 (Conv2D)              (None, 64, 64, 64)   55360       batch_normalization_21[0][0]     \n",
      "__________________________________________________________________________________________________\n",
      "batch_normalization_22 (BatchNo (None, 64, 64, 64)   256         conv2d_20[0][0]                  \n",
      "__________________________________________________________________________________________________\n",
      "conv2d_transpose_2 (Conv2DTrans (None, 128, 128, 64) 36928       batch_normalization_22[0][0]     \n",
      "__________________________________________________________________________________________________\n",
      "concatenate_2 (Concatenate)     (None, 128, 128, 128 0           conv2d_transpose_2[0][0]         \n",
      "                                                                 conv2d_7[0][0]                   \n",
      "__________________________________________________________________________________________________\n",
      "batch_normalization_23 (BatchNo (None, 128, 128, 128 512         concatenate_2[0][0]              \n",
      "__________________________________________________________________________________________________\n",
      "conv2d_21 (Conv2D)              (None, 128, 128, 96) 110688      batch_normalization_23[0][0]     \n",
      "__________________________________________________________________________________________________\n",
      "batch_normalization_24 (BatchNo (None, 128, 128, 96) 384         conv2d_21[0][0]                  \n",
      "__________________________________________________________________________________________________\n",
      "conv2d_22 (Conv2D)              (None, 128, 128, 64) 55360       batch_normalization_24[0][0]     \n",
      "__________________________________________________________________________________________________\n",
      "batch_normalization_25 (BatchNo (None, 128, 128, 64) 256         conv2d_22[0][0]                  \n",
      "__________________________________________________________________________________________________\n",
      "conv2d_transpose_3 (Conv2DTrans (None, 256, 256, 64) 36928       batch_normalization_25[0][0]     \n",
      "__________________________________________________________________________________________________\n",
      "concatenate_3 (Concatenate)     (None, 256, 256, 128 0           conv2d_transpose_3[0][0]         \n",
      "                                                                 conv2d_4[0][0]                   \n",
      "__________________________________________________________________________________________________\n",
      "batch_normalization_26 (BatchNo (None, 256, 256, 128 512         concatenate_3[0][0]              \n",
      "__________________________________________________________________________________________________\n",
      "conv2d_23 (Conv2D)              (None, 256, 256, 96) 110688      batch_normalization_26[0][0]     \n",
      "__________________________________________________________________________________________________\n",
      "batch_normalization_27 (BatchNo (None, 256, 256, 96) 384         conv2d_23[0][0]                  \n",
      "__________________________________________________________________________________________________\n",
      "conv2d_24 (Conv2D)              (None, 256, 256, 64) 55360       batch_normalization_27[0][0]     \n",
      "__________________________________________________________________________________________________\n",
      "batch_normalization_28 (BatchNo (None, 256, 256, 64) 256         conv2d_24[0][0]                  \n",
      "__________________________________________________________________________________________________\n",
      "conv2d_transpose_4 (Conv2DTrans (None, 512, 512, 64) 36928       batch_normalization_28[0][0]     \n",
      "__________________________________________________________________________________________________\n",
      "concatenate_4 (Concatenate)     (None, 512, 512, 128 0           conv2d_transpose_4[0][0]         \n",
      "                                                                 conv2d_1[0][0]                   \n",
      "__________________________________________________________________________________________________\n",
      "batch_normalization_29 (BatchNo (None, 512, 512, 128 512         concatenate_4[0][0]              \n",
      "__________________________________________________________________________________________________\n",
      "conv2d_25 (Conv2D)              (None, 512, 512, 96) 110688      batch_normalization_29[0][0]     \n",
      "__________________________________________________________________________________________________\n",
      "batch_normalization_30 (BatchNo (None, 512, 512, 96) 384         conv2d_25[0][0]                  \n",
      "__________________________________________________________________________________________________\n",
      "conv2d_26 (Conv2D)              (None, 512, 512, 64) 55360       batch_normalization_30[0][0]     \n",
      "__________________________________________________________________________________________________\n",
      "conv2d_27 (Conv2D)              (None, 512, 512, 5)  325         conv2d_26[0][0]                  \n",
      "==================================================================================================\n",
      "Total params: 1,617,701\n",
      "Trainable params: 1,612,773\n",
      "Non-trainable params: 4,928\n",
      "__________________________________________________________________________________________________\n"
     ]
    }
   ],
   "source": [
    "model.summary()"
   ]
  },
  {
   "cell_type": "code",
   "execution_count": 24,
   "metadata": {},
   "outputs": [],
   "source": [
    "from keras.callbacks import ModelCheckpoint\n",
    "\n",
    "\n",
    "model_filename = 'segm_model_v0.h5'\n",
    "callback_checkpoint = ModelCheckpoint(\n",
    "    model_filename, \n",
    "    verbose=1, \n",
    "    monitor='val_loss', \n",
    "    save_best_only=True,\n",
    ")\n"
   ]
  },
  {
   "cell_type": "code",
   "execution_count": 25,
   "metadata": {},
   "outputs": [],
   "source": [
    "from keras.optimizers import Adam, SGD\n",
    "from keras_unet.metrics import iou, iou_thresholded\n",
    "from keras_unet.losses import jaccard_distance\n",
    "\n",
    "model.compile(\n",
    "    optimizer=Adam(), \n",
    "    #optimizer=SGD(lr=0.01, momentum=0.99),\n",
    "    #loss='binary_crossentropy',\n",
    "    loss='categorical_crossentropy',\n",
    "    metrics=[iou, iou_thresholded]\n",
    ")"
   ]
  },
  {
   "cell_type": "code",
   "execution_count": 26,
   "metadata": {
    "scrolled": true
   },
   "outputs": [
    {
     "name": "stdout",
     "output_type": "stream",
     "text": [
      "Epoch 1/10\n",
      "50/50 [==============================] - 918s 18s/step - loss: 1.7062 - iou: 0.1215 - iou_thresholded: 0.0785 - val_loss: 6525.6846 - val_iou: 0.0911 - val_iou_thresholded: 0.0911\n",
      "\n",
      "Epoch 00001: val_loss improved from inf to 6525.68457, saving model to segm_model_v0.h5\n",
      "Epoch 2/10\n",
      "50/50 [==============================] - 873s 18s/step - loss: 1.1499 - iou: 0.1940 - iou_thresholded: 0.1500 - val_loss: 1.9815 - val_iou: 0.1959 - val_iou_thresholded: 0.1276\n",
      "\n",
      "Epoch 00002: val_loss improved from 6525.68457 to 1.98153, saving model to segm_model_v0.h5\n",
      "Epoch 3/10\n",
      "50/50 [==============================] - 869s 17s/step - loss: 1.4676 - iou: 0.1436 - iou_thresholded: 0.1259 - val_loss: 1.4210 - val_iou: 0.1718 - val_iou_thresholded: 0.0148\n",
      "\n",
      "Epoch 00003: val_loss improved from 1.98153 to 1.42099, saving model to segm_model_v0.h5\n",
      "Epoch 4/10\n",
      "50/50 [==============================] - 870s 18s/step - loss: 1.2879 - iou: 0.1468 - iou_thresholded: 0.0470 - val_loss: 1.4843 - val_iou: 0.2116 - val_iou_thresholded: 0.2410\n",
      "\n",
      "Epoch 00004: val_loss did not improve from 1.42099\n",
      "Epoch 5/10\n",
      "50/50 [==============================] - 894s 18s/step - loss: 1.3436 - iou: 0.1690 - iou_thresholded: 0.0989 - val_loss: 3.5575 - val_iou: 0.2149 - val_iou_thresholded: 0.2325\n",
      "\n",
      "Epoch 00005: val_loss did not improve from 1.42099\n",
      "Epoch 6/10\n",
      "50/50 [==============================] - 910s 18s/step - loss: 1.7955 - iou: 0.1505 - iou_thresholded: 0.0699 - val_loss: 4.1006 - val_iou: 0.1128 - val_iou_thresholded: 5.7847e-04\n",
      "\n",
      "Epoch 00006: val_loss did not improve from 1.42099\n",
      "Epoch 7/10\n",
      "50/50 [==============================] - 897s 18s/step - loss: 1.7271 - iou: 0.1336 - iou_thresholded: 0.0473 - val_loss: 3.9623 - val_iou: 0.1903 - val_iou_thresholded: 0.0828\n",
      "\n",
      "Epoch 00007: val_loss did not improve from 1.42099\n",
      "Epoch 8/10\n",
      "50/50 [==============================] - 933s 19s/step - loss: 1.4980 - iou: 0.1857 - iou_thresholded: 0.1607 - val_loss: 10.0384 - val_iou: 0.0853 - val_iou_thresholded: 0.0010\n",
      "\n",
      "Epoch 00008: val_loss did not improve from 1.42099\n",
      "Epoch 9/10\n",
      "50/50 [==============================] - 927s 19s/step - loss: 2.5867 - iou: 0.1425 - iou_thresholded: 0.0350 - val_loss: 11.2919 - val_iou: 0.0819 - val_iou_thresholded: 0.0017\n",
      "\n",
      "Epoch 00009: val_loss did not improve from 1.42099\n",
      "Epoch 10/10\n",
      "50/50 [==============================] - 984s 20s/step - loss: 2.9198 - iou: 0.1512 - iou_thresholded: 0.0992 - val_loss: 33.8607 - val_iou: 0.2301 - val_iou_thresholded: 0.2358\n",
      "\n",
      "Epoch 00010: val_loss did not improve from 1.42099\n"
     ]
    }
   ],
   "source": [
    "history = model.fit(\n",
    "    train_gen,\n",
    "    steps_per_epoch=50,\n",
    "    epochs=10,\n",
    "    validation_data=(x_val, y_val),\n",
    "    callbacks=[callback_checkpoint]\n",
    ")"
   ]
  },
  {
   "cell_type": "code",
   "execution_count": 27,
   "metadata": {},
   "outputs": [
    {
     "data": {
      "image/png": "[encoded data removed]",
      "text/plain": [
       "<Figure size 864x432 with 1 Axes>"
      ]
     },
     "metadata": {
      "needs_background": "light"
     },
     "output_type": "display_data"
    },
    {
     "data": {
      "image/png": "[encoded data removed]",
      "text/plain": [
       "<Figure size 864x432 with 1 Axes>"
      ]
     },
     "metadata": {
      "needs_background": "light"
     },
     "output_type": "display_data"
    }
   ],
   "source": [
    "from keras_unet.utils import plot_segm_history\n",
    "\n",
    "plot_segm_history(\n",
    "    history, # required - keras training history object\n",
    "    metrics=['iou', 'val_iou'], # optional - metrics names to plot\n",
    "    losses=['loss', 'val_loss']) # optional - loss names to plot"
   ]
  },
  {
   "cell_type": "code",
   "execution_count": null,
   "metadata": {},
   "outputs": [],
   "source": []
  },
  {
   "cell_type": "code",
   "execution_count": null,
   "metadata": {},
   "outputs": [],
   "source": []
  },
  {
   "cell_type": "code",
   "execution_count": null,
   "metadata": {},
   "outputs": [],
   "source": []
  },
  {
   "cell_type": "code",
   "execution_count": null,
   "metadata": {},
   "outputs": [],
   "source": []
  },
  {
   "cell_type": "code",
   "execution_count": null,
   "metadata": {},
   "outputs": [],
   "source": []
  },
  {
   "cell_type": "code",
   "execution_count": null,
   "metadata": {},
   "outputs": [],
   "source": []
  },
  {
   "cell_type": "code",
   "execution_count": null,
   "metadata": {},
   "outputs": [],
   "source": []
  },
  {
   "cell_type": "code",
   "execution_count": null,
   "metadata": {},
   "outputs": [],
   "source": []
  }
 ],
 "metadata": {
  "kernelspec": {
   "display_name": "Python 3",
   "language": "python",
   "name": "python3"
  },
  "language_info": {
   "codemirror_mode": {
    "name": "ipython",
    "version": 3
   },
   "file_extension": ".py",
   "mimetype": "text/x-python",
   "name": "python",
   "nbconvert_exporter": "python",
   "pygments_lexer": "ipython3",
   "version": "3.7.0"
  }
 },
 "nbformat": 4,
 "nbformat_minor": 4
}
